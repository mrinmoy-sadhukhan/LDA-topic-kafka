{
 "cells": [
  {
   "cell_type": "code",
   "execution_count": null,
   "metadata": {},
   "outputs": [],
   "source": [
    "import tweepy\n",
    "from tweepy import Stream\n",
    "#from tweepy.streaming import StreamListener\n",
    "from tweepy import OAuthHandler\n",
    "import socket\n",
    "import json\n",
    "\n",
    "\n",
    "access_token='1248089353017905152-YoPpxXLfW6rFpVsDnLJtXOKvqSwFPQ'\n",
    "access_token_secret='fduHdyl1Z3pr5FXPpXy38uZQ0GDAKTQGCErTpIhOQaYyO'\n",
    "consumer_key='KGy6h1JLWwYNASj926qpAk7Hi'\n",
    "consumer_secret='37qeEcAKDl846VCTgIgZAdJWna4p9XKMZTgd86b2QzYBVni45z'\n",
    "\n",
    "class TweetsListener(tweepy.StreamListener):\n",
    "  # tweet object listens for the tweets\n",
    "  def __init__(self, csocket):\n",
    "    self.client_socket = csocket\n",
    "  def on_data(self, data):\n",
    "    try:  \n",
    "      msg = json.loads( data )\n",
    "      print(\"new message\")\n",
    "      # if tweet is longer than 140 characters\n",
    "      if \"extended_tweet\" in msg:\n",
    "        # add at the end of each tweet \"t_end\" \n",
    "        self.client_socket\\\n",
    "            .send(str(msg['extended_tweet']['full_text']+\"t_end\")\\\n",
    "            .encode('utf-8'))         \n",
    "        print(msg['extended_tweet']['full_text'])\n",
    "      else:\n",
    "        # add at the end of each tweet \"t_end\" \n",
    "        self.client_socket\\\n",
    "            .send(str(msg['text']+\"t_end\")\\\n",
    "            .encode('utf-8'))\n",
    "        print(msg['text'])\n",
    "      return True\n",
    "    except BaseException as e:\n",
    "        print(\"Error on_data: %s\" % str(e))\n",
    "    return True\n",
    "  def on_error(self, status):\n",
    "    print(status)\n",
    "    return True\n",
    "\n",
    "def sendData(c_socket, keyword):\n",
    "  print('start sending data from Twitter to socket')\n",
    "  # authentication based on the credentials\n",
    "  auth = OAuthHandler(consumer_key, consumer_secret)\n",
    "  auth.set_access_token(access_token, access_token_secret)\n",
    "  # start sending data from the Streaming API \n",
    "  twitter_stream = Stream(auth, TweetsListener(c_socket))\n",
    "  twitter_stream.filter(track = keyword, languages=[\"en\"])\n",
    "\n",
    "if __name__ == \"__main__\":\n",
    "    # server (local machine) creates listening socket\n",
    "    s = socket.socket()\n",
    "    host = \"0.0.0.0\"    \n",
    "    port = 5556\n",
    "    s.bind((host, port))\n",
    "    print('socket is ready')\n",
    "    # server (local machine) listens for connections\n",
    "    s.listen(4)\n",
    "    print('socket is listening')\n",
    "    # return the socket and the address on the other side of the connection (client side)\n",
    "    c_socket, addr = s.accept()\n",
    "    print(\"Received request from: \" + str(addr))\n",
    "    # select here the keyword for the tweet data\n",
    "    sendData(c_socket, keyword = ['piano'])"
   ]
  },
  {
   "cell_type": "markdown",
   "metadata": {},
   "source": [
    "# check git hub repo /\n",
    "Sentiment-Analysis-of-Twitter-Data-using-pySpark-and-Live-Graphs\n",
    "lakshay-arora\n",
    "/\n",
    "PySpark"
   ]
  }
 ],
 "metadata": {
  "interpreter": {
   "hash": "2f9bc077dbce6d3d5fe29fa6676858a1bcd9a965b73328f2afbecaceda5ad6e3"
  },
  "kernelspec": {
   "display_name": "Python 3.6.13 64-bit ('nltk_pipeline': conda)",
   "language": "python",
   "name": "python3"
  },
  "language_info": {
   "codemirror_mode": {
    "name": "ipython",
    "version": 3
   },
   "file_extension": ".py",
   "mimetype": "text/x-python",
   "name": "python",
   "nbconvert_exporter": "python",
   "pygments_lexer": "ipython3",
   "version": "3.6.13"
  },
  "orig_nbformat": 4
 },
 "nbformat": 4,
 "nbformat_minor": 2
}
